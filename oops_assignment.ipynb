{
 "cells": [
  {
   "cell_type": "code",
   "execution_count": null,
   "id": "189c2b8b-f288-42ed-99cc-233c8e9e184b",
   "metadata": {},
   "outputs": [],
   "source": []
  },
  {
   "cell_type": "markdown",
   "id": "092c1a39-24f4-4374-b15c-b4ea34502eb9",
   "metadata": {},
   "source": [
    "q1) class is the template.\n",
    "class contains methods and set of rules which is inhrit by objects.\n",
    "example: phone is a class because it has some methods(calling,messegning,etc) althogh we can say this is a design every phone contains basic things like calling messeging etc.\n",
    "object is the instance or real world entity which inherits the methods and rules of the class in this senario phones of different companies like \n",
    "samsung , motorola all are inherting the property of phones.\n",
    "\n",
    "\n"
   ]
  },
  {
   "cell_type": "markdown",
   "id": "52dd0ded-ac92-4b05-9a8b-3de58d40a18a",
   "metadata": {},
   "source": [
    "q2) four pillar of oops\n",
    "1)polymorphism\n",
    "2) encapsulation\n",
    "3)absrtraction \n",
    "4) inheritence\n"
   ]
  },
  {
   "cell_type": "markdown",
   "id": "d5a95087-3e3e-48e3-8530-6350f7ed417c",
   "metadata": {},
   "source": [
    "q3)\n",
    "__init__ function:\n",
    "it is a special method it is used to intialize the object.\n",
    "In init we write those code which would excetue at the automatically without acessing the user.\n"
   ]
  },
  {
   "cell_type": "markdown",
   "id": "72552b13-9a91-4baf-bd99-c076949cfc17",
   "metadata": {},
   "source": [
    "q4) self is used to bind the methods or variable to the class.\n",
    "self is same as the this keyword in java.\n",
    "with the help of self one method can talk with other method with in the class.\n"
   ]
  },
  {
   "cell_type": "markdown",
   "id": "e266e2dc-401c-4dbb-823b-65fd079dddef",
   "metadata": {},
   "source": [
    "q5)when chlid class inherits the property of the parent class this is called inheritance.\n",
    "types of inheritance:\n",
    "1)single imheritance:\n",
    "when child class inherits the properties from a single parent class \n",
    "2)multiple inheritance: \n",
    "when child class inherits the properties from more than one classes.\n",
    "3)multilevel inheritance:\n",
    "when the child class inherits the property from the upper child class and upper child class inherits the properties of the parent class\n",
    "4)hierarchical inheritance:\n",
    "when the two or more child inherits the property of the same class.\n",
    "5) multiple inheritance: inheritance contaning multiple types of inheritance\n"
   ]
  }
 ],
 "metadata": {
  "kernelspec": {
   "display_name": "Python 3 (ipykernel)",
   "language": "python",
   "name": "python3"
  },
  "language_info": {
   "codemirror_mode": {
    "name": "ipython",
    "version": 3
   },
   "file_extension": ".py",
   "mimetype": "text/x-python",
   "name": "python",
   "nbconvert_exporter": "python",
   "pygments_lexer": "ipython3",
   "version": "3.10.8"
  }
 },
 "nbformat": 4,
 "nbformat_minor": 5
}
